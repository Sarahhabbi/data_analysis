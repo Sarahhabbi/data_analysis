{
 "cells": [
  {
   "cell_type": "code",
   "execution_count": 1,
   "metadata": {},
   "outputs": [],
   "source": [
    "import pandas as pd\n",
    "import numpy as np\n",
    "import matplotlib as plt"
   ]
  },
  {
   "cell_type": "markdown",
   "metadata": {},
   "source": [
    "## Data exploration"
   ]
  },
  {
   "cell_type": "code",
   "execution_count": 2,
   "metadata": {},
   "outputs": [],
   "source": [
    "energy_balance_europe_df = pd.read_csv(\"../data/energy_balance_eu.csv\")"
   ]
  },
  {
   "cell_type": "code",
   "execution_count": 5,
   "metadata": {},
   "outputs": [
    {
     "data": {
      "text/html": [
       "<div>\n",
       "<style scoped>\n",
       "    .dataframe tbody tr th:only-of-type {\n",
       "        vertical-align: middle;\n",
       "    }\n",
       "\n",
       "    .dataframe tbody tr th {\n",
       "        vertical-align: top;\n",
       "    }\n",
       "\n",
       "    .dataframe thead th {\n",
       "        text-align: right;\n",
       "    }\n",
       "</style>\n",
       "<table border=\"1\" class=\"dataframe\">\n",
       "  <thead>\n",
       "    <tr style=\"text-align: right;\">\n",
       "      <th></th>\n",
       "      <th>nrg_bal</th>\n",
       "      <th>siec</th>\n",
       "      <th>unit</th>\n",
       "      <th>geo</th>\n",
       "      <th>TIME_PERIOD</th>\n",
       "      <th>OBS_VALUE</th>\n",
       "    </tr>\n",
       "  </thead>\n",
       "  <tbody>\n",
       "    <tr>\n",
       "      <th>0</th>\n",
       "      <td>AFC</td>\n",
       "      <td>C0000X0350-0370</td>\n",
       "      <td>GWH</td>\n",
       "      <td>AL</td>\n",
       "      <td>1990</td>\n",
       "      <td>6644.088</td>\n",
       "    </tr>\n",
       "    <tr>\n",
       "      <th>1</th>\n",
       "      <td>AFC</td>\n",
       "      <td>C0000X0350-0370</td>\n",
       "      <td>GWH</td>\n",
       "      <td>AL</td>\n",
       "      <td>1991</td>\n",
       "      <td>3816.945</td>\n",
       "    </tr>\n",
       "    <tr>\n",
       "      <th>2</th>\n",
       "      <td>AFC</td>\n",
       "      <td>C0000X0350-0370</td>\n",
       "      <td>GWH</td>\n",
       "      <td>AL</td>\n",
       "      <td>1992</td>\n",
       "      <td>1067.475</td>\n",
       "    </tr>\n",
       "    <tr>\n",
       "      <th>3</th>\n",
       "      <td>AFC</td>\n",
       "      <td>C0000X0350-0370</td>\n",
       "      <td>GWH</td>\n",
       "      <td>AL</td>\n",
       "      <td>1993</td>\n",
       "      <td>525.540</td>\n",
       "    </tr>\n",
       "    <tr>\n",
       "      <th>4</th>\n",
       "      <td>AFC</td>\n",
       "      <td>C0000X0350-0370</td>\n",
       "      <td>GWH</td>\n",
       "      <td>AL</td>\n",
       "      <td>1994</td>\n",
       "      <td>459.514</td>\n",
       "    </tr>\n",
       "    <tr>\n",
       "      <th>...</th>\n",
       "      <td>...</td>\n",
       "      <td>...</td>\n",
       "      <td>...</td>\n",
       "      <td>...</td>\n",
       "      <td>...</td>\n",
       "      <td>...</td>\n",
       "    </tr>\n",
       "    <tr>\n",
       "      <th>3863011</th>\n",
       "      <td>TO_RPI</td>\n",
       "      <td>W6100_6220</td>\n",
       "      <td>TJ</td>\n",
       "      <td>XK</td>\n",
       "      <td>2015</td>\n",
       "      <td>NaN</td>\n",
       "    </tr>\n",
       "    <tr>\n",
       "      <th>3863012</th>\n",
       "      <td>TO_RPI</td>\n",
       "      <td>W6100_6220</td>\n",
       "      <td>TJ</td>\n",
       "      <td>XK</td>\n",
       "      <td>2016</td>\n",
       "      <td>NaN</td>\n",
       "    </tr>\n",
       "    <tr>\n",
       "      <th>3863013</th>\n",
       "      <td>TO_RPI</td>\n",
       "      <td>W6100_6220</td>\n",
       "      <td>TJ</td>\n",
       "      <td>XK</td>\n",
       "      <td>2017</td>\n",
       "      <td>NaN</td>\n",
       "    </tr>\n",
       "    <tr>\n",
       "      <th>3863014</th>\n",
       "      <td>TO_RPI</td>\n",
       "      <td>W6100_6220</td>\n",
       "      <td>TJ</td>\n",
       "      <td>XK</td>\n",
       "      <td>2018</td>\n",
       "      <td>NaN</td>\n",
       "    </tr>\n",
       "    <tr>\n",
       "      <th>3863015</th>\n",
       "      <td>TO_RPI</td>\n",
       "      <td>W6100_6220</td>\n",
       "      <td>TJ</td>\n",
       "      <td>XK</td>\n",
       "      <td>2019</td>\n",
       "      <td>NaN</td>\n",
       "    </tr>\n",
       "  </tbody>\n",
       "</table>\n",
       "<p>3863016 rows × 6 columns</p>\n",
       "</div>"
      ],
      "text/plain": [
       "        nrg_bal             siec unit geo  TIME_PERIOD  OBS_VALUE\n",
       "0           AFC  C0000X0350-0370  GWH  AL         1990   6644.088\n",
       "1           AFC  C0000X0350-0370  GWH  AL         1991   3816.945\n",
       "2           AFC  C0000X0350-0370  GWH  AL         1992   1067.475\n",
       "3           AFC  C0000X0350-0370  GWH  AL         1993    525.540\n",
       "4           AFC  C0000X0350-0370  GWH  AL         1994    459.514\n",
       "...         ...              ...  ...  ..          ...        ...\n",
       "3863011  TO_RPI       W6100_6220   TJ  XK         2015        NaN\n",
       "3863012  TO_RPI       W6100_6220   TJ  XK         2016        NaN\n",
       "3863013  TO_RPI       W6100_6220   TJ  XK         2017        NaN\n",
       "3863014  TO_RPI       W6100_6220   TJ  XK         2018        NaN\n",
       "3863015  TO_RPI       W6100_6220   TJ  XK         2019        NaN\n",
       "\n",
       "[3863016 rows x 6 columns]"
      ]
     },
     "metadata": {},
     "output_type": "display_data"
    }
   ],
   "source": [
    "display(energy_balance_europe_df)"
   ]
  },
  {
   "cell_type": "code",
   "execution_count": null,
   "metadata": {},
   "outputs": [],
   "source": [
    "nrg_bal_dict = pd.read_csv(\"../data/nrg_bal_dict\")\n",
    "siec_dict = pd.read_csv(\"../data/siec_dict\")"
   ]
  }
 ],
 "metadata": {
  "kernelspec": {
   "display_name": "Python 3.7.4 64-bit",
   "language": "python",
   "name": "python3"
  },
  "language_info": {
   "codemirror_mode": {
    "name": "ipython",
    "version": 3
   },
   "file_extension": ".py",
   "mimetype": "text/x-python",
   "name": "python",
   "nbconvert_exporter": "python",
   "pygments_lexer": "ipython3",
   "version": "3.7.4"
  },
  "orig_nbformat": 4,
  "vscode": {
   "interpreter": {
    "hash": "aee8b7b246df8f9039afb4144a1f6fd8d2ca17a180786b69acc140d282b71a49"
   }
  }
 },
 "nbformat": 4,
 "nbformat_minor": 2
}
